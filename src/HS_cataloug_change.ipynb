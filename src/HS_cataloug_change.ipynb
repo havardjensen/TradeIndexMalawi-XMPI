{
 "cells": [
  {
   "cell_type": "code",
   "execution_count": null,
   "id": "67013488-fad5-4bcc-81ad-a6624d308cc2",
   "metadata": {},
   "outputs": [],
   "source": [
    "import pandas as pd\n",
    "import numpy as np\n",
    "import json\n",
    "from pathlib import Path\n",
    "from itables import init_notebook_mode, show\n",
    "import matplotlib.pyplot as plt\n",
    "import seaborn as sns\n",
    "#pd.set_option('display.float_format',  '{:18,.0}'.format)\n",
    "pd.set_option('display.float_format', lambda x: f'{x:15,.0f}' if abs(x)>1e5 else f'{x:15.2f}')\n",
    "import itables\n",
    "\n",
    "# Initialize interactive display mode\n",
    "itables.init_notebook_mode(all_interactive=True)\n",
    "\n",
    "\n",
    "weight = pd.read_parquet(f'../data/weight_base_import_2022.parquet')\n",
    "# Load Excel file\n",
    "# Load Excel file with HS codes as strings\n",
    "hs_conversion = pd.read_excel(\n",
    "    '../cat/HS2022toHS2017ConversionAndCorrelationTables.xlsx',\n",
    "    sheet_name='HS2022-HS2017 Correlations',\n",
    "    dtype=str  # Ensures all columns are read as strings\n",
    ")\n",
    "\n",
    "# Rename columns\n",
    "hs_conversion.rename(columns={'From HS2022': 'hs6_2022', 'To HS2017': 'hs6_2017', 'Relationship': 'Relationship'}, inplace=True)\n",
    "\n",
    "# Sort by commodity\n",
    "hs_conversion.sort_values(by='hs6_2017', inplace=True)\n",
    "\n",
    "# equal 2022 and 2017\n",
    "hs_conversion['equal'] = hs_conversion['hs6_2022'] == hs_conversion['hs6_2017']\n",
    "\n",
    "\n",
    "# Save as Parquet\n",
    "hs_conversion.to_parquet(f'../cat/hs_correspondance_2017_2022.parquet', index=False)\n",
    "\n",
    "\n",
    "# Load base price data\n",
    "base_price = pd.read_parquet(f'../data/base_priceimport_2022.parquet')\n",
    "# Ensure comno is a string before slicing\n",
    "base_price['comno6'] = base_price['comno'].astype(str).str[:6]\n",
    "\n",
    "\n",
    "base_price"
   ]
  },
  {
   "cell_type": "code",
   "execution_count": null,
   "id": "2f87b045-a1b8-439a-8b11-1b0c50eeb30d",
   "metadata": {},
   "outputs": [],
   "source": [
    "print(hs_conversion.columns)\n",
    "print(base_price.columns)\n",
    "weight"
   ]
  },
  {
   "cell_type": "code",
   "execution_count": null,
   "id": "05097acc-f8e0-48d2-aa9d-e7e739c2fea4",
   "metadata": {},
   "outputs": [],
   "source": [
    "# Merge the datasets on the correct columns\n",
    "merged_data = hs_conversion.merge(base_price, left_on='hs6_2022', right_on='comno6', how='left', indicator='found_hs')\n",
    "\n",
    "# Map the 'found_hs' indicator values to 1 and 0\n",
    "merged_data['found_hs'] = merged_data['found_hs'].map({'both': 1, 'left_only': 0})\n",
    "\n",
    "merged_data = merged_data.merge(weight, left_on='comno', right_on='comno', how='left')\n",
    "\n",
    "#merged_data_filtered = merged_data[merged_data['Relationship'] == '1:1']\n",
    "\n",
    "\n",
    "# Display the merged data\n",
    "#merged_data_filtered\n",
    "\n",
    "crosstab = pd.crosstab(merged_data['found_hs'], columns='Frequency', margins=True)\n",
    "crosstab"
   ]
  },
  {
   "cell_type": "code",
   "execution_count": null,
   "id": "8fbbd8fc-c279-409e-b4cd-bb53ebff7714",
   "metadata": {},
   "outputs": [],
   "source": [
    "merged_data_filtered2 = merged_data[merged_data['found_hs'] == 1]\n",
    "merged_data_filtered3 = merged_data_filtered2[merged_data_filtered2['equal'] == 0]\n",
    "merged_data_filtered3.loc[merged_data_filtered3['hs6_2017'] == '040310']"
   ]
  }
 ],
 "metadata": {
  "kernelspec": {
   "display_name": "Python 3 (ipykernel)",
   "language": "python",
   "name": "python3"
  },
  "language_info": {
   "codemirror_mode": {
    "name": "ipython",
    "version": 3
   },
   "file_extension": ".py",
   "mimetype": "text/x-python",
   "name": "python",
   "nbconvert_exporter": "python",
   "pygments_lexer": "ipython3",
   "version": "3.11.4"
  }
 },
 "nbformat": 4,
 "nbformat_minor": 5
}
